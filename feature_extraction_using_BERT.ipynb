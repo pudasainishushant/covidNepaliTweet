{
 "cells": [
  {
   "cell_type": "code",
   "execution_count": 60,
   "id": "68351441",
   "metadata": {},
   "outputs": [],
   "source": [
    "import pandas as pd"
   ]
  },
  {
   "cell_type": "code",
   "execution_count": 61,
   "id": "b60ecf2c",
   "metadata": {},
   "outputs": [],
   "source": [
    "data = pd.read_csv(\"covid19_tweeter_dataset.csv\")"
   ]
  },
  {
   "cell_type": "code",
   "execution_count": 62,
   "id": "24bfa307",
   "metadata": {},
   "outputs": [
    {
     "data": {
      "text/html": [
       "<div>\n",
       "<style scoped>\n",
       "    .dataframe tbody tr th:only-of-type {\n",
       "        vertical-align: middle;\n",
       "    }\n",
       "\n",
       "    .dataframe tbody tr th {\n",
       "        vertical-align: top;\n",
       "    }\n",
       "\n",
       "    .dataframe thead th {\n",
       "        text-align: right;\n",
       "    }\n",
       "</style>\n",
       "<table border=\"1\" class=\"dataframe\">\n",
       "  <thead>\n",
       "    <tr style=\"text-align: right;\">\n",
       "      <th></th>\n",
       "      <th>Unnamed: 0</th>\n",
       "      <th>Label</th>\n",
       "      <th>Datetime</th>\n",
       "      <th>Tweet</th>\n",
       "      <th>Tokanize_tweet</th>\n",
       "      <th>Unnamed: 5</th>\n",
       "    </tr>\n",
       "  </thead>\n",
       "  <tbody>\n",
       "    <tr>\n",
       "      <th>0</th>\n",
       "      <td>0</td>\n",
       "      <td>-1</td>\n",
       "      <td>2021-01-10 22:06:41+00:00</td>\n",
       "      <td>अमेरिकामा कोभिड बाट एकै दिन चार हजारभन्दा बढीक...</td>\n",
       "      <td>अमेरिकामा,कोभिड,बाट,एकै,दिन,चार,हजारभन्दा,बढीक...</td>\n",
       "      <td>NaN</td>\n",
       "    </tr>\n",
       "    <tr>\n",
       "      <th>1</th>\n",
       "      <td>1</td>\n",
       "      <td>-1</td>\n",
       "      <td>2021-01-10 17:49:34+00:00</td>\n",
       "      <td>कोभिड का कारण विदेशमा रहेका नेपालीहरुमा मानसिक...</td>\n",
       "      <td>कोभिड,का,कारण,विदेशमा,रहेका,नेपालीहरुमा,मानसिक...</td>\n",
       "      <td>NaN</td>\n",
       "    </tr>\n",
       "    <tr>\n",
       "      <th>2</th>\n",
       "      <td>2</td>\n",
       "      <td>1</td>\n",
       "      <td>2021-01-10 16:18:34+00:00</td>\n",
       "      <td>नेपालमा क्लोभर बायोफार्मास्युटिकल्स अस्ट्रेलिय...</td>\n",
       "      <td>नेपालमा,क्लोभर,बायोफार्मास्युटिकल्स,अस्ट्रेलिय...</td>\n",
       "      <td>NaN</td>\n",
       "    </tr>\n",
       "    <tr>\n",
       "      <th>3</th>\n",
       "      <td>3</td>\n",
       "      <td>0</td>\n",
       "      <td>2021-01-10 15:12:17+00:00</td>\n",
       "      <td>कोभिड को खोप पनि लगाइयो</td>\n",
       "      <td>कोभिड,को,खोप,पनि,लगाइयो</td>\n",
       "      <td>NaN</td>\n",
       "    </tr>\n",
       "    <tr>\n",
       "      <th>4</th>\n",
       "      <td>4</td>\n",
       "      <td>-1</td>\n",
       "      <td>2021-01-10 15:07:12+00:00</td>\n",
       "      <td>अमेरिकामा कोभिड को नयाँ रेकर्ड एकै दिन हजारभन्...</td>\n",
       "      <td>अमेरिकामा,कोभिड,को,नयाँ,रेकर्ड,एकै,दिन,हजारभन्...</td>\n",
       "      <td>NaN</td>\n",
       "    </tr>\n",
       "    <tr>\n",
       "      <th>...</th>\n",
       "      <td>...</td>\n",
       "      <td>...</td>\n",
       "      <td>...</td>\n",
       "      <td>...</td>\n",
       "      <td>...</td>\n",
       "      <td>...</td>\n",
       "    </tr>\n",
       "    <tr>\n",
       "      <th>33469</th>\n",
       "      <td>33469</td>\n",
       "      <td>0</td>\n",
       "      <td>2020-02-12 01:33:08+00:00</td>\n",
       "      <td>कोरोना भाइरसलाई विश्व स्वास्थ्य संगठनले दियो न...</td>\n",
       "      <td>कोरोना,भाइरसलाई,विश्व,स्वास्थ्य,संगठनले,नाम,कोभिड</td>\n",
       "      <td>NaN</td>\n",
       "    </tr>\n",
       "    <tr>\n",
       "      <th>33470</th>\n",
       "      <td>33470</td>\n",
       "      <td>0</td>\n",
       "      <td>2020-02-12 00:38:07+00:00</td>\n",
       "      <td>डब्ल्युएचओले दियाेको कोरोनाको नयाँ नाम कोभिड</td>\n",
       "      <td>डब्ल्युएचओले,दियाेको,कोरोनाको,नाम,कोभिड</td>\n",
       "      <td>NaN</td>\n",
       "    </tr>\n",
       "    <tr>\n",
       "      <th>33471</th>\n",
       "      <td>33471</td>\n",
       "      <td>0</td>\n",
       "      <td>2020-02-11 19:37:26+00:00</td>\n",
       "      <td>कोरोना भाइरस संक्रमणको औपचारिक नाम अब कोभिड</td>\n",
       "      <td>कोरोना,भाइरस,संक्रमणको,औपचारिक,नाम,कोभिड</td>\n",
       "      <td>NaN</td>\n",
       "    </tr>\n",
       "    <tr>\n",
       "      <th>33472</th>\n",
       "      <td>33472</td>\n",
       "      <td>0</td>\n",
       "      <td>2020-02-11 16:36:40+00:00</td>\n",
       "      <td>विश्व स्वास्थ्य संगठन डब्लुएचओ ले नोबल कोरोना ...</td>\n",
       "      <td>विश्व,स्वास्थ्य,संगठन,डब्लुएचओ,नोबल,कोरोना,भाइ...</td>\n",
       "      <td>NaN</td>\n",
       "    </tr>\n",
       "    <tr>\n",
       "      <th>33473</th>\n",
       "      <td>33473</td>\n",
       "      <td>0</td>\n",
       "      <td>2020-02-11 15:22:16+00:00</td>\n",
       "      <td>कोरोनाभाइरसका सङ्क्रमणको नाम कोभिड भनेर विश्व ...</td>\n",
       "      <td>कोरोनाभाइरसका,सङ्क्रमणको,नाम,कोभिड,विश्व,स्वास...</td>\n",
       "      <td>NaN</td>\n",
       "    </tr>\n",
       "  </tbody>\n",
       "</table>\n",
       "<p>33474 rows × 6 columns</p>\n",
       "</div>"
      ],
      "text/plain": [
       "       Unnamed: 0  Label                   Datetime  \\\n",
       "0               0     -1  2021-01-10 22:06:41+00:00   \n",
       "1               1     -1  2021-01-10 17:49:34+00:00   \n",
       "2               2      1  2021-01-10 16:18:34+00:00   \n",
       "3               3      0  2021-01-10 15:12:17+00:00   \n",
       "4               4     -1  2021-01-10 15:07:12+00:00   \n",
       "...           ...    ...                        ...   \n",
       "33469       33469      0  2020-02-12 01:33:08+00:00   \n",
       "33470       33470      0  2020-02-12 00:38:07+00:00   \n",
       "33471       33471      0  2020-02-11 19:37:26+00:00   \n",
       "33472       33472      0  2020-02-11 16:36:40+00:00   \n",
       "33473       33473      0  2020-02-11 15:22:16+00:00   \n",
       "\n",
       "                                                   Tweet  \\\n",
       "0      अमेरिकामा कोभिड बाट एकै दिन चार हजारभन्दा बढीक...   \n",
       "1      कोभिड का कारण विदेशमा रहेका नेपालीहरुमा मानसिक...   \n",
       "2      नेपालमा क्लोभर बायोफार्मास्युटिकल्स अस्ट्रेलिय...   \n",
       "3                                कोभिड को खोप पनि लगाइयो   \n",
       "4      अमेरिकामा कोभिड को नयाँ रेकर्ड एकै दिन हजारभन्...   \n",
       "...                                                  ...   \n",
       "33469  कोरोना भाइरसलाई विश्व स्वास्थ्य संगठनले दियो न...   \n",
       "33470       डब्ल्युएचओले दियाेको कोरोनाको नयाँ नाम कोभिड   \n",
       "33471        कोरोना भाइरस संक्रमणको औपचारिक नाम अब कोभिड   \n",
       "33472  विश्व स्वास्थ्य संगठन डब्लुएचओ ले नोबल कोरोना ...   \n",
       "33473  कोरोनाभाइरसका सङ्क्रमणको नाम कोभिड भनेर विश्व ...   \n",
       "\n",
       "                                          Tokanize_tweet Unnamed: 5  \n",
       "0      अमेरिकामा,कोभिड,बाट,एकै,दिन,चार,हजारभन्दा,बढीक...        NaN  \n",
       "1      कोभिड,का,कारण,विदेशमा,रहेका,नेपालीहरुमा,मानसिक...        NaN  \n",
       "2      नेपालमा,क्लोभर,बायोफार्मास्युटिकल्स,अस्ट्रेलिय...        NaN  \n",
       "3                                कोभिड,को,खोप,पनि,लगाइयो        NaN  \n",
       "4      अमेरिकामा,कोभिड,को,नयाँ,रेकर्ड,एकै,दिन,हजारभन्...        NaN  \n",
       "...                                                  ...        ...  \n",
       "33469  कोरोना,भाइरसलाई,विश्व,स्वास्थ्य,संगठनले,नाम,कोभिड        NaN  \n",
       "33470            डब्ल्युएचओले,दियाेको,कोरोनाको,नाम,कोभिड        NaN  \n",
       "33471           कोरोना,भाइरस,संक्रमणको,औपचारिक,नाम,कोभिड        NaN  \n",
       "33472  विश्व,स्वास्थ्य,संगठन,डब्लुएचओ,नोबल,कोरोना,भाइ...        NaN  \n",
       "33473  कोरोनाभाइरसका,सङ्क्रमणको,नाम,कोभिड,विश्व,स्वास...        NaN  \n",
       "\n",
       "[33474 rows x 6 columns]"
      ]
     },
     "execution_count": 62,
     "metadata": {},
     "output_type": "execute_result"
    }
   ],
   "source": [
    "data"
   ]
  },
  {
   "cell_type": "code",
   "execution_count": 63,
   "id": "9c2ac1cc",
   "metadata": {},
   "outputs": [
    {
     "data": {
      "text/plain": [
       "'प्रधानमँत्रीज्यू चुनाव गर्ने पैसा हुने तर कोभीड बाट जनताको लागि निशूल्क खोप ल्याउन पैसा नहुने खोप ल्याउन किन ढिलाइ गरिँदैछ देश र जनताप्रति किन लापरबाही'"
      ]
     },
     "execution_count": 63,
     "metadata": {},
     "output_type": "execute_result"
    }
   ],
   "source": [
    "data['Tweet'][30]"
   ]
  },
  {
   "cell_type": "code",
   "execution_count": 64,
   "id": "e9140e3e",
   "metadata": {},
   "outputs": [],
   "source": [
    "data['length'] = data['Tokanize_tweet'].apply(\n",
    "    lambda row: min(len(row.split(\",\")), len(row)) if isinstance(row, str) else None\n",
    ")"
   ]
  },
  {
   "cell_type": "code",
   "execution_count": 65,
   "id": "cf4205b0",
   "metadata": {},
   "outputs": [
    {
     "data": {
      "text/plain": [
       "61.0"
      ]
     },
     "execution_count": 65,
     "metadata": {},
     "output_type": "execute_result"
    }
   ],
   "source": [
    "max(data['length'].tolist())"
   ]
  },
  {
   "cell_type": "code",
   "execution_count": 66,
   "id": "214fecbd",
   "metadata": {},
   "outputs": [
    {
     "data": {
      "text/plain": [
       "'कोभिड का कारण विदेशमा रहेका नेपालीहरुमा मानसिक स्वास्थ्य सम्बन्धि समस्या देखिएको र आत्महत्याका घटनाहरु बढेको डा सापकोटाले बताए'"
      ]
     },
     "execution_count": 66,
     "metadata": {},
     "output_type": "execute_result"
    }
   ],
   "source": [
    "data[\"Tweet\"][1]"
   ]
  },
  {
   "cell_type": "code",
   "execution_count": 67,
   "id": "6e942d2d",
   "metadata": {},
   "outputs": [
    {
     "data": {
      "text/html": [
       "<div>\n",
       "<style scoped>\n",
       "    .dataframe tbody tr th:only-of-type {\n",
       "        vertical-align: middle;\n",
       "    }\n",
       "\n",
       "    .dataframe tbody tr th {\n",
       "        vertical-align: top;\n",
       "    }\n",
       "\n",
       "    .dataframe thead th {\n",
       "        text-align: right;\n",
       "    }\n",
       "</style>\n",
       "<table border=\"1\" class=\"dataframe\">\n",
       "  <thead>\n",
       "    <tr style=\"text-align: right;\">\n",
       "      <th></th>\n",
       "      <th>Unnamed: 0</th>\n",
       "      <th>Label</th>\n",
       "      <th>Datetime</th>\n",
       "      <th>Tweet</th>\n",
       "      <th>Tokanize_tweet</th>\n",
       "      <th>Unnamed: 5</th>\n",
       "      <th>length</th>\n",
       "    </tr>\n",
       "  </thead>\n",
       "  <tbody>\n",
       "    <tr>\n",
       "      <th>0</th>\n",
       "      <td>0</td>\n",
       "      <td>-1</td>\n",
       "      <td>2021-01-10 22:06:41+00:00</td>\n",
       "      <td>अमेरिकामा कोभिड बाट एकै दिन चार हजारभन्दा बढीक...</td>\n",
       "      <td>अमेरिकामा,कोभिड,बाट,एकै,दिन,चार,हजारभन्दा,बढीक...</td>\n",
       "      <td>NaN</td>\n",
       "      <td>9.0</td>\n",
       "    </tr>\n",
       "    <tr>\n",
       "      <th>1</th>\n",
       "      <td>1</td>\n",
       "      <td>-1</td>\n",
       "      <td>2021-01-10 17:49:34+00:00</td>\n",
       "      <td>कोभिड का कारण विदेशमा रहेका नेपालीहरुमा मानसिक...</td>\n",
       "      <td>कोभिड,का,कारण,विदेशमा,रहेका,नेपालीहरुमा,मानसिक...</td>\n",
       "      <td>NaN</td>\n",
       "      <td>18.0</td>\n",
       "    </tr>\n",
       "    <tr>\n",
       "      <th>2</th>\n",
       "      <td>2</td>\n",
       "      <td>1</td>\n",
       "      <td>2021-01-10 16:18:34+00:00</td>\n",
       "      <td>नेपालमा क्लोभर बायोफार्मास्युटिकल्स अस्ट्रेलिय...</td>\n",
       "      <td>नेपालमा,क्लोभर,बायोफार्मास्युटिकल्स,अस्ट्रेलिय...</td>\n",
       "      <td>NaN</td>\n",
       "      <td>20.0</td>\n",
       "    </tr>\n",
       "    <tr>\n",
       "      <th>3</th>\n",
       "      <td>3</td>\n",
       "      <td>0</td>\n",
       "      <td>2021-01-10 15:12:17+00:00</td>\n",
       "      <td>कोभिड को खोप पनि लगाइयो</td>\n",
       "      <td>कोभिड,को,खोप,पनि,लगाइयो</td>\n",
       "      <td>NaN</td>\n",
       "      <td>5.0</td>\n",
       "    </tr>\n",
       "    <tr>\n",
       "      <th>4</th>\n",
       "      <td>4</td>\n",
       "      <td>-1</td>\n",
       "      <td>2021-01-10 15:07:12+00:00</td>\n",
       "      <td>अमेरिकामा कोभिड को नयाँ रेकर्ड एकै दिन हजारभन्...</td>\n",
       "      <td>अमेरिकामा,कोभिड,को,नयाँ,रेकर्ड,एकै,दिन,हजारभन्...</td>\n",
       "      <td>NaN</td>\n",
       "      <td>12.0</td>\n",
       "    </tr>\n",
       "  </tbody>\n",
       "</table>\n",
       "</div>"
      ],
      "text/plain": [
       "   Unnamed: 0  Label                   Datetime  \\\n",
       "0           0     -1  2021-01-10 22:06:41+00:00   \n",
       "1           1     -1  2021-01-10 17:49:34+00:00   \n",
       "2           2      1  2021-01-10 16:18:34+00:00   \n",
       "3           3      0  2021-01-10 15:12:17+00:00   \n",
       "4           4     -1  2021-01-10 15:07:12+00:00   \n",
       "\n",
       "                                               Tweet  \\\n",
       "0  अमेरिकामा कोभिड बाट एकै दिन चार हजारभन्दा बढीक...   \n",
       "1  कोभिड का कारण विदेशमा रहेका नेपालीहरुमा मानसिक...   \n",
       "2  नेपालमा क्लोभर बायोफार्मास्युटिकल्स अस्ट्रेलिय...   \n",
       "3                            कोभिड को खोप पनि लगाइयो   \n",
       "4  अमेरिकामा कोभिड को नयाँ रेकर्ड एकै दिन हजारभन्...   \n",
       "\n",
       "                                      Tokanize_tweet Unnamed: 5  length  \n",
       "0  अमेरिकामा,कोभिड,बाट,एकै,दिन,चार,हजारभन्दा,बढीक...        NaN     9.0  \n",
       "1  कोभिड,का,कारण,विदेशमा,रहेका,नेपालीहरुमा,मानसिक...        NaN    18.0  \n",
       "2  नेपालमा,क्लोभर,बायोफार्मास्युटिकल्स,अस्ट्रेलिय...        NaN    20.0  \n",
       "3                            कोभिड,को,खोप,पनि,लगाइयो        NaN     5.0  \n",
       "4  अमेरिकामा,कोभिड,को,नयाँ,रेकर्ड,एकै,दिन,हजारभन्...        NaN    12.0  "
      ]
     },
     "execution_count": 67,
     "metadata": {},
     "output_type": "execute_result"
    }
   ],
   "source": [
    "data.head()"
   ]
  },
  {
   "cell_type": "code",
   "execution_count": 68,
   "id": "90910619",
   "metadata": {},
   "outputs": [
    {
     "data": {
      "text/plain": [
       " 1    14998\n",
       "-1    13606\n",
       " 0     4870\n",
       "Name: Label, dtype: int64"
      ]
     },
     "execution_count": 68,
     "metadata": {},
     "output_type": "execute_result"
    }
   ],
   "source": [
    "data[\"Label\"].value_counts()"
   ]
  },
  {
   "cell_type": "markdown",
   "id": "e6ead4d3",
   "metadata": {},
   "source": [
    "## TFIDF without preprocessing"
   ]
  },
  {
   "cell_type": "code",
   "execution_count": 70,
   "id": "79208d7b",
   "metadata": {},
   "outputs": [],
   "source": [
    "corpus = data[\"Tweet\"].tolist()"
   ]
  },
  {
   "cell_type": "code",
   "execution_count": 71,
   "id": "6f7b199a",
   "metadata": {},
   "outputs": [],
   "source": [
    "from sklearn.feature_extraction.text import TfidfVectorizer\n",
    "vectorizer = TfidfVectorizer()\n",
    "Tfidf_vect = vectorizer.fit_transform(corpus)"
   ]
  },
  {
   "cell_type": "code",
   "execution_count": 75,
   "id": "f46f6d85",
   "metadata": {},
   "outputs": [],
   "source": [
    "from sklearn.model_selection import train_test_split\n",
    "X,y = data['Tweet'], data['Label']\n",
    "train_X,  test_X, train_y, test_y = train_test_split(X,y, test_size = 0.3, random_state = 520)"
   ]
  },
  {
   "cell_type": "code",
   "execution_count": 76,
   "id": "8ab164ca",
   "metadata": {},
   "outputs": [],
   "source": [
    "Train_X_Tfidf = vectorizer.fit_transform(train_X)\n",
    "Test_X_Tfidf = vectorizer.transform(test_X)"
   ]
  },
  {
   "cell_type": "markdown",
   "id": "89df6291",
   "metadata": {},
   "source": [
    "### Naive Bayes\n"
   ]
  },
  {
   "cell_type": "code",
   "execution_count": 77,
   "id": "dcbfd65b",
   "metadata": {},
   "outputs": [],
   "source": [
    "from sklearn import model_selection, naive_bayes, svm\n",
    "# fit the training dataset on the NB classifier\n",
    "Naive = naive_bayes.MultinomialNB()\n",
    "Naive.fit(Train_X_Tfidf,train_y)\n",
    "# predict the labels on validation dataset\n",
    "predictions_NB = Naive.predict(Test_X_Tfidf)"
   ]
  },
  {
   "cell_type": "code",
   "execution_count": 78,
   "id": "76ed1b90",
   "metadata": {},
   "outputs": [
    {
     "data": {
      "text/plain": [
       "array([[2510,    2, 1491],\n",
       "       [ 453,   20, 1021],\n",
       "       [ 761,    0, 3785]])"
      ]
     },
     "execution_count": 78,
     "metadata": {},
     "output_type": "execute_result"
    }
   ],
   "source": [
    "from sklearn.metrics import confusion_matrix\n",
    "confusion_matrix(test_y, predictions_NB)"
   ]
  },
  {
   "cell_type": "code",
   "execution_count": 79,
   "id": "a0a93235",
   "metadata": {},
   "outputs": [
    {
     "name": "stdout",
     "output_type": "stream",
     "text": [
      "              precision    recall  f1-score   support\n",
      "\n",
      "          -1       0.67      0.63      0.65      4003\n",
      "           0       0.91      0.01      0.03      1494\n",
      "           1       0.60      0.83      0.70      4546\n",
      "\n",
      "    accuracy                           0.63     10043\n",
      "   macro avg       0.73      0.49      0.46     10043\n",
      "weighted avg       0.68      0.63      0.58     10043\n",
      "\n"
     ]
    }
   ],
   "source": [
    "from sklearn.metrics import classification_report\n",
    "print(classification_report(test_y, predictions_NB))"
   ]
  },
  {
   "cell_type": "markdown",
   "id": "db5e238c",
   "metadata": {},
   "source": [
    "#### Random forest"
   ]
  },
  {
   "cell_type": "code",
   "execution_count": 80,
   "id": "23c6a781",
   "metadata": {},
   "outputs": [],
   "source": [
    "from sklearn.ensemble import RandomForestClassifier \n",
    "from sklearn.model_selection import GridSearchCV\n",
    "param_grid = { \n",
    "    'n_estimators': [100, 200,250,300],\n",
    "    'max_features': ['auto', 'sqrt', 'log2'],\n",
    "    'max_depth' : [2,3,4,5],\n",
    "    'criterion' :['gini', 'entropy']\n",
    "}\n",
    "rfc=RandomForestClassifier(random_state=42)"
   ]
  },
  {
   "cell_type": "code",
   "execution_count": 81,
   "id": "9a2130a2",
   "metadata": {},
   "outputs": [
    {
     "data": {
      "text/plain": [
       "GridSearchCV(cv=3, estimator=RandomForestClassifier(random_state=42),\n",
       "             param_grid={'criterion': ['gini', 'entropy'],\n",
       "                         'max_depth': [2, 3, 4, 5],\n",
       "                         'max_features': ['auto', 'sqrt', 'log2'],\n",
       "                         'n_estimators': [100, 200, 250, 300]})"
      ]
     },
     "execution_count": 81,
     "metadata": {},
     "output_type": "execute_result"
    }
   ],
   "source": [
    "CV_rfc = GridSearchCV(estimator=rfc, param_grid=param_grid, cv= 3)\n",
    "CV_rfc.fit(Train_X_Tfidf,train_y)"
   ]
  },
  {
   "cell_type": "code",
   "execution_count": 82,
   "id": "128ffcff",
   "metadata": {},
   "outputs": [
    {
     "data": {
      "text/plain": [
       "{'criterion': 'gini',\n",
       " 'max_depth': 5,\n",
       " 'max_features': 'auto',\n",
       " 'n_estimators': 250}"
      ]
     },
     "execution_count": 82,
     "metadata": {},
     "output_type": "execute_result"
    }
   ],
   "source": [
    "CV_rfc.best_params_"
   ]
  },
  {
   "cell_type": "code",
   "execution_count": 85,
   "id": "ec8c311d",
   "metadata": {},
   "outputs": [
    {
     "name": "stdout",
     "output_type": "stream",
     "text": [
      "Accuracy for Random Forest on test data:  0.5958378970427163\n"
     ]
    }
   ],
   "source": [
    "from sklearn.metrics import accuracy_score\n",
    "from sklearn.metrics import roc_auc_score\n",
    "rfc1=RandomForestClassifier(random_state=42, max_features='auto', n_estimators= 250, max_depth=5, criterion='entropy')\n",
    "rfc1.fit(Train_X_Tfidf,train_y)\n",
    "y_pred=rfc1.predict(Test_X_Tfidf)\n",
    "print(\"Accuracy for Random Forest on test data: \",accuracy_score(test_y,y_pred))"
   ]
  },
  {
   "cell_type": "markdown",
   "id": "740ab7b8",
   "metadata": {},
   "source": [
    "### SVM"
   ]
  },
  {
   "cell_type": "code",
   "execution_count": null,
   "id": "5c5e32c9",
   "metadata": {},
   "outputs": [],
   "source": [
    "from sklearn.svm import SVC\n",
    "from sklearn.model_selection import GridSearchCV\n",
    "import numpy as np\n",
    "C_range = np.logspace(-2, 10, 13)\n",
    "gamma_range = np.logspace(-9, 3, 13)\n",
    "param_grid = dict(gamma=gamma_range, C=C_range)\n",
    "grid = GridSearchCV(SVC(), param_grid=param_grid, cv=3)\n",
    "grid.fit(Train_X_Tfidf,train_y)\n",
    "print(grid.best_estimator_)\n",
    "y_predict=grid.predict(Test_X_Tfidf)\n"
   ]
  },
  {
   "cell_type": "code",
   "execution_count": null,
   "id": "09d86194",
   "metadata": {},
   "outputs": [],
   "source": [
    "clf = SVC(C=100.0, gamma=1.0)\n",
    "clf.fit(X_train,y_train)\n",
    "y_pred=clf.predict(X_test)\n",
    "print(\"Accuracy for SVC on test data: \",accuracy_score(y_test,y_pred))"
   ]
  }
 ],
 "metadata": {
  "kernelspec": {
   "display_name": "Python 3 (ipykernel)",
   "language": "python",
   "name": "python3"
  },
  "language_info": {
   "codemirror_mode": {
    "name": "ipython",
    "version": 3
   },
   "file_extension": ".py",
   "mimetype": "text/x-python",
   "name": "python",
   "nbconvert_exporter": "python",
   "pygments_lexer": "ipython3",
   "version": "3.7.13"
  }
 },
 "nbformat": 4,
 "nbformat_minor": 5
}
